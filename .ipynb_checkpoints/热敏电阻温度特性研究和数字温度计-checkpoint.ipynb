{
 "cells": [
  {
   "cell_type": "code",
   "execution_count": 20,
   "metadata": {},
   "outputs": [],
   "source": [
    "import numpy as np\n",
    "import matplotlib.pyplot as plt\n",
    "import numpy as np\n",
    "%matplotlib inline"
   ]
  },
  {
   "cell_type": "markdown",
   "metadata": {},
   "source": [
    "# lnR-1/T关系曲线图"
   ]
  },
  {
   "cell_type": "code",
   "execution_count": 21,
   "metadata": {},
   "outputs": [],
   "source": [
    "#数据准备\n",
    "t = np.array([20.5,26.7,30,35,40,43,45,50,55,60])\n",
    "R = np.array([3179.9,2856.9,2525.9,2099.0,1776.9,1599.8,1408.1,1280.3,1119.3,1006.3])"
   ]
  },
  {
   "cell_type": "code",
   "execution_count": 22,
   "metadata": {},
   "outputs": [
    {
     "data": {
      "text/plain": [
       "array([3.39847069, 3.32834082, 3.29218107, 3.2388664 , 3.187251  ,\n",
       "       3.15706393, 3.1372549 , 3.08880309, 3.0418251 , 2.99625468])"
      ]
     },
     "execution_count": 22,
     "metadata": {},
     "output_type": "execute_result"
    }
   ],
   "source": [
    "T_1 = 1/(t+273.75)*10**3\n",
    "T_1"
   ]
  },
  {
   "cell_type": "code",
   "execution_count": 23,
   "metadata": {},
   "outputs": [
    {
     "data": {
      "text/plain": [
       "array([8.06460503, 7.9574924 , 7.83435271, 7.64921632, 7.48262555,\n",
       "       7.3776339 , 7.24999656, 7.1548497 , 7.02045877, 6.91403552])"
      ]
     },
     "execution_count": 23,
     "metadata": {},
     "output_type": "execute_result"
    }
   ],
   "source": [
    "lnR = np.log(R)\n",
    "lnR"
   ]
  },
  {
   "cell_type": "code",
   "execution_count": 24,
   "metadata": {},
   "outputs": [
    {
     "name": "stdout",
     "output_type": "stream",
     "text": [
      "a0=-2.334750908390484\n",
      "a1=3.0770042218241263\n"
     ]
    }
   ],
   "source": [
    "#确定直线y=a0+a1x，返回值是a0,a1\n",
    "def linear_regression(x, y): \n",
    "    N = len(x)\n",
    "    sumx = sum(x)\n",
    "    sumy = sum(y)\n",
    "    sumx2 = sum(x**2)\n",
    "    sumxy = sum(x*y)\n",
    "\n",
    "    A = np.mat([[N, sumx], [sumx, sumx2]])\n",
    "    b = np.array([sumy, sumxy])\n",
    "\n",
    "    return np.linalg.solve(A, b)\n",
    " \n",
    "a0, a1 = linear_regression(T_1,lnR)\n",
    "print(f'a0={a0}')\n",
    "print(f'a1={a1}')"
   ]
  },
  {
   "cell_type": "code",
   "execution_count": 25,
   "metadata": {},
   "outputs": [],
   "source": [
    "Y = lnR\n",
    "X = T_1\n",
    "Y2 = a0+a1*X"
   ]
  },
  {
   "cell_type": "code",
   "execution_count": 26,
   "metadata": {},
   "outputs": [
    {
     "data": {
      "image/png": "[encoded data removed]",
      "text/plain": [
       "<Figure size 432x288 with 1 Axes>"
      ]
     },
     "metadata": {
      "needs_background": "light"
     },
     "output_type": "display_data"
    }
   ],
   "source": [
    "plt.figure()\n",
    "plt.rcParams['font.sans-serif'] = ['SimHei']  # 用来正常显示中文标签\n",
    "plt.rcParams['axes.unicode_minus'] = False  # 用来正常显示负号\n",
    "plt.grid(True)#网格线\n",
    "plt.title('lnR-1/T关系曲线图')#标题\n",
    "\n",
    "plt.plot(X,Y,'ro') #显示红点\n",
    "# plt.plot(lnR, 'k.') #显示黑点\n",
    "plt.plot(X,Y2,'b') #显示拟合直线\n",
    "\n",
    "plt.xlabel(r'1/T×10^3') \n",
    "plt.ylabel(r'lnR') \n",
    "\n",
    "# plt.show\n",
    "plt.savefig('tu1.jpg',dpi=200)"
   ]
  },
  {
   "cell_type": "markdown",
   "metadata": {},
   "source": [
    "# U0-t关系曲线"
   ]
  },
  {
   "cell_type": "code",
   "execution_count": 27,
   "metadata": {},
   "outputs": [],
   "source": [
    "U0 = np.array([0,25.5,54.9,100.5,146.1,173.2,191.6,236.4,278.0,308.0])"
   ]
  },
  {
   "cell_type": "code",
   "execution_count": 35,
   "metadata": {},
   "outputs": [
    {
     "name": "stdout",
     "output_type": "stream",
     "text": [
      "b=-203.0004997807099\n",
      "k=8.685220946260435\n"
     ]
    }
   ],
   "source": [
    "b,k = linear_regression(t[1:],U0[1:])\n",
    "print(f'b={b}')\n",
    "print(f'k={k}')"
   ]
  },
  {
   "cell_type": "code",
   "execution_count": 36,
   "metadata": {},
   "outputs": [],
   "source": [
    "Y3 = U0\n",
    "X3 = t\n",
    "Y3_d = k*X3 + b"
   ]
  },
  {
   "cell_type": "code",
   "execution_count": 37,
   "metadata": {},
   "outputs": [
    {
     "data": {
      "text/plain": [
       "array([-24.95347038,  28.89489948,  57.55612861, 100.98223334,\n",
       "       144.40833807, 170.46400091, 187.8344428 , 231.26054753,\n",
       "       274.68665226, 318.11275699])"
      ]
     },
     "execution_count": 37,
     "metadata": {},
     "output_type": "execute_result"
    }
   ],
   "source": [
    "Y3_d"
   ]
  },
  {
   "cell_type": "code",
   "execution_count": 38,
   "metadata": {},
   "outputs": [
    {
     "data": {
      "image/png": "[encoded data removed]",
      "text/plain": [
       "<Figure size 432x288 with 1 Axes>"
      ]
     },
     "metadata": {
      "needs_background": "light"
     },
     "output_type": "display_data"
    }
   ],
   "source": [
    "plt.figure()\n",
    "plt.rcParams['font.sans-serif'] = ['SimHei']  # 用来正常显示中文标签\n",
    "plt.rcParams['axes.unicode_minus'] = False  # 用来正常显示负号\n",
    "plt.grid(True)#网格线\n",
    "plt.title('Uo-T关系曲线图')#标题\n",
    "\n",
    "plt.plot(X3,Y3,'ro') #显示红点\n",
    "# plt.plot(lnR, 'k.') #显示黑点\n",
    "plt.plot(X3,Y3_d,'b') #显示拟合直线\n",
    "\n",
    "plt.xlabel(r'T') \n",
    "plt.ylabel(r'Uo') \n",
    "\n",
    "# plt.show\n",
    "plt.savefig('tu2.jpg',dpi=200)"
   ]
  },
  {
   "cell_type": "code",
   "execution_count": null,
   "metadata": {},
   "outputs": [],
   "source": []
  }
 ],
 "metadata": {
  "kernelspec": {
   "display_name": "Python 3",
   "language": "python",
   "name": "python3"
  },
  "language_info": {
   "codemirror_mode": {
    "name": "ipython",
    "version": 3
   },
   "file_extension": ".py",
   "mimetype": "text/x-python",
   "name": "python",
   "nbconvert_exporter": "python",
   "pygments_lexer": "ipython3",
   "version": "3.8.5"
  }
 },
 "nbformat": 4,
 "nbformat_minor": 4
}
