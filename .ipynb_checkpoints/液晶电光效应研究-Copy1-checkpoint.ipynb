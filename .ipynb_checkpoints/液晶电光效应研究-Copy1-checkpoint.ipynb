{
 "cells": [
  {
   "cell_type": "code",
   "execution_count": 3,
   "id": "ebda453c",
   "metadata": {},
   "outputs": [
    {
     "name": "stderr",
     "output_type": "stream",
     "text": [
      "Missing colon in file PosixPath('/Users/sunbaile/opt/anaconda3/lib/python3.8/site-packages/matplotlib/mpl-data/matplotlibrc'), line 758 (' 中文字体')\n",
      "Duplicate key in file PosixPath('/Users/sunbaile/opt/anaconda3/lib/python3.8/site-packages/matplotlib/mpl-data/matplotlibrc'), line 759 ('font.family: sans-serif')\n",
      "Duplicate key in file PosixPath('/Users/sunbaile/opt/anaconda3/lib/python3.8/site-packages/matplotlib/mpl-data/matplotlibrc'), line 760 ('font.sans-serif: Arial Unicode MS, Bitstream Vera Sans, Lucida Grande, Verdana, Geneva, Lucid, Arial, Helvetica, Avant Garde, sans-serif')\n",
      "Duplicate key in file PosixPath('/Users/sunbaile/opt/anaconda3/lib/python3.8/site-packages/matplotlib/mpl-data/matplotlibrc'), line 761 ('axes.unicode_minus: False')\n"
     ]
    }
   ],
   "source": [
    "import numpy as np\n",
    "import matplotlib.pyplot as plt\n",
    "%matplotlib inline\n",
    "plt.rcParams['font.sans-serif'] = ['Arial Unicode MS'] #不能运行的话改成SimHei\n",
    "plt.rcParams['axes.unicode_minus'] = False  # 负号正常显示"
   ]
  },
  {
   "cell_type": "markdown",
   "id": "418c65c7",
   "metadata": {},
   "source": [
    "# 原始数据"
   ]
  },
  {
   "cell_type": "code",
   "execution_count": 4,
   "id": "d772293c",
   "metadata": {},
   "outputs": [],
   "source": [
    "x=np.array([0,0.5,0.7,0.8,0.85,0.9,0.95,1,1.05,1.1,1.15,1.2,1.3,1.4,1.45,1.5,1.55,1.6,1.65,1.7,1.8,2,3])\n",
    "y=np.array([100,99.6,99.6,99.5,99.5,99.4,99,98,95.7,91.6,85.8,78.3,61.5,43.9,36.4,29.8,23.8,19,15,11.9,7.7,4.1,4.2])#水平\n",
    "#y=[100,99.9,99.8,99.8,99.8,99.6,99.2,98.2,95.6,91.3,85.1,77.4,60.1,42.9,35.2,28,22.4,17.6,13.7,10.7,6.7,3.4,3.8]#垂直"
   ]
  },
  {
   "cell_type": "code",
   "execution_count": 5,
   "id": "b0ca85c7",
   "metadata": {},
   "outputs": [
    {
     "name": "stdout",
     "output_type": "stream",
     "text": [
      "(23,) (23,)\n"
     ]
    }
   ],
   "source": [
    "print(x.shape, y.shape)"
   ]
  },
  {
   "cell_type": "markdown",
   "id": "e88034b3",
   "metadata": {},
   "source": [
    "# 分成三段拟合，第一、三段为直线，第二段为四次多项式"
   ]
  },
  {
   "cell_type": "code",
   "execution_count": 7,
   "id": "f5f30988",
   "metadata": {},
   "outputs": [],
   "source": [
    "f1 = np.polyfit(x[:5], y[:5], 1)\n",
    "xfit1 = np.linspace(0, x[4], 10)\n",
    "yfit1 = np.polyval(f1, xfit1)"
   ]
  },
  {
   "cell_type": "code",
   "execution_count": 14,
   "id": "bfc51fc9",
   "metadata": {},
   "outputs": [],
   "source": [
    "f2 = np.polyfit(x[5:-1], y[5:-1], 4) # 采用4次多项式拟合，f2为参数，np.array类型\n",
    "xfit2 = np.linspace(x[5], x[-2], 5000)\n",
    "yfit2 = np.polyval(f2, xfit2) # 得到拟合后的结果，np.array类型"
   ]
  },
  {
   "cell_type": "code",
   "execution_count": 17,
   "id": "be18a7aa",
   "metadata": {},
   "outputs": [],
   "source": [
    "f3 = np.polyfit(x[-2:],y[-2:], 1)\n",
    "xfit3 = np.linspace(x[-2], 3, 10)\n",
    "yfit3 = np.polyval(f3, xfit3)"
   ]
  },
  {
   "cell_type": "code",
   "execution_count": 21,
   "id": "959c225b",
   "metadata": {},
   "outputs": [
    {
     "data": {
      "text/plain": [
       "array([100.75118229, 100.75014908, 100.74808572, 100.7449916 ,\n",
       "       100.74086614, 100.73570876, 100.72951893, 100.72229613,\n",
       "       100.71403985, 100.70474962, 100.694425  , 100.68306554,\n",
       "       100.67067085, 100.65724054, 100.64277425, 100.62727163,\n",
       "       100.61073239, 100.59315621, 100.57454283, 100.55489201,\n",
       "       100.53420352, 100.51247715, 100.48971273, 100.4659101 ,\n",
       "       100.44106912, 100.41518969, 100.38827172, 100.36031513,\n",
       "       100.3313199 , 100.30128598, 100.2702134 , 100.23810217,\n",
       "       100.20495234, 100.17076398, 100.13553719, 100.09927208,\n",
       "       100.06196878, 100.02362747,  99.98424832,  99.94383154,\n",
       "        99.90237736,  99.85988604,  99.81635784,  99.77179306,\n",
       "        99.72619203,  99.67955509,  99.6318826 ,  99.58317496,\n",
       "        99.53343257,  99.48265586,  99.4308453 ,  99.37800136,\n",
       "        99.32412455,  99.26921538,  99.21327442,  99.15630222,\n",
       "        99.09829938,  99.03926652,  98.97920427,  98.9181133 ,\n",
       "        98.85599428,  98.79284793,  98.72867498,  98.66347617,\n",
       "        98.59725229,  98.53000412,  98.46173249,  98.39243825,\n",
       "        98.32212225,  98.25078538,  98.17842856,  98.10505272,\n",
       "        98.03065882,  97.95524783,  97.87882076,  97.80137863,\n",
       "        97.72292249,  97.64345341,  97.56297248,  97.48148082,\n",
       "        97.39897956,  97.31546987,  97.23095292,  97.14542994,\n",
       "        97.05890213,  96.97137077,  96.88283711,  96.79330246,\n",
       "        96.70276814,  96.61123549,  96.51870587,  96.42518068,\n",
       "        96.33066133,  96.23514924,  96.13864587,  96.04115271,\n",
       "        95.94267125,  95.84320302,  95.74274956,  95.64131245,\n",
       "        95.53889328,  95.43549366,  95.33111524,  95.22575966,\n",
       "        95.11942862,  95.01212382,  94.90384699,  94.79459988,\n",
       "        94.68438427,  94.57320194,  94.46105473,  94.34794448,\n",
       "        94.23387304,  94.11884231,  94.0028542 ,  93.88591064,\n",
       "        93.76801359,  93.64916502,  93.52936694,  93.40862137,\n",
       "        93.28693036,  93.16429597,  93.04072031,  92.91620547,\n",
       "        92.79075362,  92.66436689,  92.53704748,  92.40879759,\n",
       "        92.27961945,  92.14951531,  92.01848745,  91.88653816,\n",
       "        91.75366976,  91.6198846 ,  91.48518503,  91.34957345,\n",
       "        91.21305227,  91.07562391,  90.93729084,  90.79805554,\n",
       "        90.6579205 ,  90.51688824,  90.37496133,  90.23214231,\n",
       "        90.0884338 ,  89.94383839,  89.79835874,  89.65199749,\n",
       "        89.50475734,  89.35664098,  89.20765115,  89.05779059,\n",
       "        88.90706209,  88.75546843,  88.60301244,  88.44969696,\n",
       "        88.29552485,  88.140499  ,  87.98462232,  87.82789775,\n",
       "        87.67032823,  87.51191675,  87.35266631,  87.19257993,\n",
       "        87.03166066,  86.86991156,  86.70733574,  86.5439363 ,\n",
       "        86.37971637,  86.21467913,  86.04882776,  85.88216545,\n",
       "        85.71469543,  85.54642097,  85.37734533,  85.2074718 ,\n",
       "        85.03680371,  84.8653444 ,  84.69309724,  84.5200656 ,\n",
       "        84.3462529 ,  84.17166258,  83.99629808,  83.82016289,\n",
       "        83.6432605 ,  83.46559444,  83.28716826,  83.10798553,\n",
       "        82.92804983,  82.74736478,  82.56593403,  82.38376121,\n",
       "        82.20085003,  82.01720419,  81.8328274 ,  81.64772343,\n",
       "        81.46189605,  81.27534905,  81.08808626,  80.90011151,\n",
       "        80.71142866,  80.52204161,  80.33195427,  80.14117056,\n",
       "        79.94969444,  79.75752989,  79.56468092,  79.37115153,\n",
       "        79.17694579,  78.98206775,  78.78652152,  78.59031119,\n",
       "        78.39344092,  78.19591486,  77.99773719,  77.79891212,\n",
       "        77.59944387,  77.3993367 ,  77.19859487,  76.99722269,\n",
       "        76.79522448,  76.59260456,  76.38936732,  76.18551713,\n",
       "        75.98105841,  75.77599558,  75.5703331 ,  75.36407545,\n",
       "        75.15722714,  74.94979267,  74.7417766 ,  74.5331835 ,\n",
       "        74.32401796,  74.11428458,  73.90398802,  73.69313293,\n",
       "        73.48172398,  73.26976589,  73.05726338,  72.8442212 ,\n",
       "        72.63064413,  72.41653695,  72.2019045 ,  71.98675161,\n",
       "        71.77108314,  71.55490398,  71.33821904,  71.12103326,\n",
       "        70.90335158,  70.68517898,  70.46652046,  70.24738106,\n",
       "        70.0277658 ,  69.80767977,  69.58712805,  69.36611575,\n",
       "        69.14464801,  68.92273   ,  68.70036688,  68.47756388,\n",
       "        68.2543262 ,  68.03065911,  67.80656788,  67.5820578 ,\n",
       "        67.3571342 ,  67.1318024 ,  66.90606778,  66.67993572,\n",
       "        66.45341163,  66.22650094,  65.99920911,  65.77154161,\n",
       "        65.54350394,  65.31510163,  65.08634023,  64.85722529,\n",
       "        64.62776241,  64.3979572 ,  64.16781531,  63.93734239,\n",
       "        63.70654411,  63.47542619,  63.24399435,  63.01225434,\n",
       "        62.78021194,  62.54787294,  62.31524315,  62.08232842,\n",
       "        61.84913462,  61.61566762,  61.38193333,  61.1479377 ,\n",
       "        60.91368666,  60.67918621,  60.44444233,  60.20946105,\n",
       "        59.97424842,  59.73881051,  59.5031534 ,  59.2672832 ,\n",
       "        59.03120606,  58.79492814,  58.5584556 ,  58.32179467,\n",
       "        58.08495155,  57.84793252,  57.61074383,  57.37339178,\n",
       "        57.13588269,  56.8982229 ,  56.66041877,  56.42247669,\n",
       "        56.18440307,  55.94620434,  55.70788695,  55.46945738,\n",
       "        55.23092213,  54.99228772,  54.75356069,  54.51474762,\n",
       "        54.27585509,  54.03688972,  53.79785815,  53.55876702,\n",
       "        53.31962303,  53.08043287,  52.84120327,  52.60194099,\n",
       "        52.36265279,  52.12334547,  51.88402585,  51.64470077,\n",
       "        51.40537708,  51.16606168,  50.92676148,  50.68748339,\n",
       "        50.44823439,  50.20902144,  49.96985155,  49.73073174,\n",
       "        49.49166904,  49.25267053,  49.01374331,  48.77489447,\n",
       "        48.53613116,  48.29746054,  48.05888978,  47.82042609,\n",
       "        47.5820767 ,  47.34384886,  47.10574983,  46.86778691,\n",
       "        46.62996743,  46.39229871,  46.15478812,  45.91744306,\n",
       "        45.68027091,  45.44327913,  45.20647515,  44.96986646,\n",
       "        44.73346056,  44.49726497,  44.26128722,  44.0255349 ,\n",
       "        43.79001558,  43.55473688,  43.31970644,  43.08493192,\n",
       "        42.85042099,  42.61618136,  42.38222076,  42.14854693,\n",
       "        41.91516765,  41.6820907 ,  41.44932392,  41.21687513,\n",
       "        40.9847522 ,  40.75296301,  40.52151548,  40.29041753,\n",
       "        40.05967712,  39.82930222,  39.59930083,  39.36968098,\n",
       "        39.14045071,  38.91161807,  38.68319118,  38.45517813,\n",
       "        38.22758706,  38.00042613,  37.77370352,  37.54742743,\n",
       "        37.3216061 ,  37.09624776,  36.87136069,  36.64695318,\n",
       "        36.42303356,  36.19961015,  35.97669133,  35.75428548,\n",
       "        35.532401  ,  35.31104633,  35.09022991,  34.86996023,\n",
       "        34.65024578,  34.43109509,  34.2125167 ,  33.99451917,\n",
       "        33.7771111 ,  33.56030109,  33.34409779,  33.12850985,\n",
       "        32.91354594,  32.69921478,  32.48552509,  32.27248561,\n",
       "        32.06010513,  31.84839242,  31.63735632,  31.42700565,\n",
       "        31.21734929,  31.00839611,  30.80015502,  30.59263496,\n",
       "        30.38584487,  30.17979373,  29.97449055,  29.76994434,\n",
       "        29.56616414,  29.36315902,  29.16093807,  28.95951041,\n",
       "        28.75888516,  28.55907149,  28.36007858,  28.16191562,\n",
       "        27.96459185,  27.7681165 ,  27.57249887,  27.37774822,\n",
       "        27.18387389,  26.99088522,  26.79879155,  26.60760229,\n",
       "        26.41732683,  26.22797461,  26.03955507,  25.85207771,\n",
       "        25.665552  ,  25.47998748,  25.29539368,  25.11178018,\n",
       "        24.92915655,  24.74753243,  24.56691743,  24.38732122,\n",
       "        24.20875347,  24.03122389,  23.85474221,  23.67931816,\n",
       "        23.50496153,  23.33168211,  23.1594897 ,  22.98839416,\n",
       "        22.81840535,  22.64953313,  22.48178744,  22.31517818,\n",
       "        22.14971533,  21.98540885,  21.82226873,  21.66030501,\n",
       "        21.49952772,  21.33994693,  21.18157273,  21.02441523,\n",
       "        20.86848456,  20.71379089,  20.56034439,  20.40815526,\n",
       "        20.25723373,  20.10759005,  19.95923449,  19.81217733,\n",
       "        19.66642891,  19.52199954,  19.37889961,  19.23713949,\n",
       "        19.09672958,  18.95768032,  18.82000217,  18.68370558,\n",
       "        18.54880107,  18.41529916,  18.28321038,  18.1525453 ,\n",
       "        18.02331451,  17.89552863,  17.76919828,  17.64433412])"
      ]
     },
     "execution_count": 21,
     "metadata": {},
     "output_type": "execute_result"
    }
   ],
   "source": [
    "yfit2"
   ]
  },
  {
   "cell_type": "markdown",
   "id": "ae04c368",
   "metadata": {},
   "source": [
    "# 找到透射率最接近10%和90%的点"
   ]
  },
  {
   "cell_type": "code",
   "execution_count": 15,
   "id": "7846f044",
   "metadata": {},
   "outputs": [
    {
     "name": "stdout",
     "output_type": "stream",
     "text": [
      "1.7271454290858173 1.106621324264853\n"
     ]
    }
   ],
   "source": [
    "x_10 = xfit2[np.abs(yfit2-10)<0.1][0]\n",
    "y_10 = yfit2[xfit2==x_10]\n",
    "x_90 = xfit2[np.abs(yfit2-90)<0.5][0]\n",
    "y_90 = yfit2[xfit2==x_90]\n",
    "print(x_10,x_90)"
   ]
  },
  {
   "cell_type": "markdown",
   "id": "dbf587ed",
   "metadata": {},
   "source": [
    "# 画图"
   ]
  },
  {
   "cell_type": "code",
   "execution_count": 18,
   "id": "4729bfd7",
   "metadata": {},
   "outputs": [
    {
     "data": {
      "image/png": "[encoded data removed]",
      "text/plain": [
       "<Figure size 720x432 with 1 Axes>"
      ]
     },
     "metadata": {
      "needs_background": "light"
     },
     "output_type": "display_data"
    }
   ],
   "source": [
    "plt.figure(figsize=(10,6))\n",
    "plt.title(r\"电压与透射率关系图\")\n",
    "plt.ylabel(r\"透射率/%\")\n",
    "plt.xlabel(r\"电压/V\")\n",
    "plt.grid()\n",
    "plt.plot(x, y, 'ok', label=\"实验数据\")\n",
    "plt.plot(xfit1, yfit1, color='b')\n",
    "plt.plot(xfit2, yfit2, color='b', label=\"拟合曲线\")\n",
    "plt.plot(xfit3, yfit3, color='b')\n",
    "plt.plot(x_10, y_10, \"or\")\n",
    "plt.plot(x_90, y_90, \"or\")\n",
    "plt.text(x_10, y_10, (float(x_10.round(2)), 10),ha='left', va='bottom', fontsize=15, color=\"r\")\n",
    "plt.text(x_90, y_90, (float(x_90.round(2)), 90),ha='left', va='bottom', fontsize=15, color=\"r\")\n",
    "plt.legend()\n",
    "plt.savefig(\"液晶电光效应研究.jpg\",dpi=150)"
   ]
  },
  {
   "cell_type": "code",
   "execution_count": null,
   "id": "a78069c9",
   "metadata": {},
   "outputs": [],
   "source": []
  }
 ],
 "metadata": {
  "kernelspec": {
   "display_name": "Python 3",
   "language": "python",
   "name": "python3"
  },
  "language_info": {
   "codemirror_mode": {
    "name": "ipython",
    "version": 3
   },
   "file_extension": ".py",
   "mimetype": "text/x-python",
   "name": "python",
   "nbconvert_exporter": "python",
   "pygments_lexer": "ipython3",
   "version": "3.8.8"
  }
 },
 "nbformat": 4,
 "nbformat_minor": 5
}
