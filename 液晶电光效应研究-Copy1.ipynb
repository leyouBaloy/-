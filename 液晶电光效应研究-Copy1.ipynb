{
 "cells": [
  {
   "cell_type": "code",
   "execution_count": 2,
   "id": "ebda453c",
   "metadata": {},
   "outputs": [
    {
     "name": "stderr",
     "output_type": "stream",
     "text": [
      "Missing colon in file PosixPath('/Users/sunbaile/opt/anaconda3/lib/python3.8/site-packages/matplotlib/mpl-data/matplotlibrc'), line 758 (' 中文字体')\n",
      "Duplicate key in file PosixPath('/Users/sunbaile/opt/anaconda3/lib/python3.8/site-packages/matplotlib/mpl-data/matplotlibrc'), line 759 ('font.family: sans-serif')\n",
      "Duplicate key in file PosixPath('/Users/sunbaile/opt/anaconda3/lib/python3.8/site-packages/matplotlib/mpl-data/matplotlibrc'), line 760 ('font.sans-serif: Arial Unicode MS, Bitstream Vera Sans, Lucida Grande, Verdana, Geneva, Lucid, Arial, Helvetica, Avant Garde, sans-serif')\n",
      "Duplicate key in file PosixPath('/Users/sunbaile/opt/anaconda3/lib/python3.8/site-packages/matplotlib/mpl-data/matplotlibrc'), line 761 ('axes.unicode_minus: False')\n"
     ]
    }
   ],
   "source": [
    "import numpy as np\n",
    "import matplotlib.pyplot as plt\n",
    "%matplotlib inline\n",
    "plt.rcParams['font.sans-serif'] = ['Arial Unicode MS'] #不能运行的话改成SimHei\n",
    "plt.rcParams['axes.unicode_minus'] = False  # 负号正常显示"
   ]
  },
  {
   "cell_type": "markdown",
   "id": "418c65c7",
   "metadata": {},
   "source": [
    "# 原始数据"
   ]
  },
  {
   "cell_type": "code",
   "execution_count": 5,
   "id": "d772293c",
   "metadata": {},
   "outputs": [],
   "source": [
    "x=np.array([0,0.5,0.7,0.8,0.85,0.9,0.95,1,1.05,1.1,1.15,1.2,1.3,1.4,1.45,1.5,1.55,1.6,1.65,1.7,1.8,2,3])\n",
    "# y=np.array([100,99.6,99.6,99.5,99.5,99.4,99,98,95.7,91.6,85.8,78.3,61.5,43.9,36.4,29.8,23.8,19,15,11.9,7.7,4.1,4.2])#水平\n",
    "y=np.array([100,99.9,99.8,99.8,99.8,99.6,99.2,98.2,95.6,91.3,85.1,77.4,60.1,42.9,35.2,28,22.4,17.6,13.7,10.7,6.7,3.4,3.8])#垂直"
   ]
  },
  {
   "cell_type": "code",
   "execution_count": 6,
   "id": "b0ca85c7",
   "metadata": {},
   "outputs": [
    {
     "name": "stdout",
     "output_type": "stream",
     "text": [
      "(23,) (23,)\n"
     ]
    }
   ],
   "source": [
    "print(x.shape, y.shape)"
   ]
  },
  {
   "cell_type": "markdown",
   "id": "e88034b3",
   "metadata": {},
   "source": [
    "# 分成三段拟合，第一、三段为直线，第二段为四次多项式"
   ]
  },
  {
   "cell_type": "code",
   "execution_count": 7,
   "id": "f5f30988",
   "metadata": {},
   "outputs": [],
   "source": [
    "f1 = np.polyfit(x[:5], y[:5], 1)\n",
    "xfit1 = np.linspace(0, x[4], 10)\n",
    "yfit1 = np.polyval(f1, xfit1)"
   ]
  },
  {
   "cell_type": "code",
   "execution_count": 8,
   "id": "bfc51fc9",
   "metadata": {},
   "outputs": [],
   "source": [
    "f2 = np.polyfit(x[5:-1], y[5:-1], 4) # 采用4次多项式拟合，f2为参数，np.array类型\n",
    "xfit2 = np.linspace(x[5], x[-2], 5000)\n",
    "yfit2 = np.polyval(f2, xfit2) # 得到拟合后的结果，np.array类型"
   ]
  },
  {
   "cell_type": "code",
   "execution_count": 9,
   "id": "be18a7aa",
   "metadata": {},
   "outputs": [],
   "source": [
    "f3 = np.polyfit(x[-2:],y[-2:], 1)\n",
    "xfit3 = np.linspace(x[-2], 3, 10)\n",
    "yfit3 = np.polyval(f3, xfit3)"
   ]
  },
  {
   "cell_type": "code",
   "execution_count": 10,
   "id": "959c225b",
   "metadata": {},
   "outputs": [
    {
     "data": {
      "text/plain": [
       "array([98.15863838, 98.17598511, 98.19326027, ...,  3.56319749,\n",
       "        3.55939499,  3.5555826 ])"
      ]
     },
     "execution_count": 10,
     "metadata": {},
     "output_type": "execute_result"
    }
   ],
   "source": [
    "yfit2"
   ]
  },
  {
   "cell_type": "markdown",
   "id": "ae04c368",
   "metadata": {},
   "source": [
    "# 找到透射率最接近10%和90%的点"
   ]
  },
  {
   "cell_type": "code",
   "execution_count": 13,
   "id": "7846f044",
   "metadata": {},
   "outputs": [
    {
     "name": "stdout",
     "output_type": "stream",
     "text": [
      "1.7040408081616323 1.106621324264853\n"
     ]
    }
   ],
   "source": [
    "x_10 = xfit2[np.abs(yfit2-10)<0.1][0]\n",
    "y_10 = yfit2[xfit2==x_10]\n",
    "x_90 = xfit2[np.abs(yfit2-90)<0.1][0]\n",
    "y_90 = yfit2[xfit2==x_90]\n",
    "print(x_10,x_90)"
   ]
  },
  {
   "cell_type": "markdown",
   "id": "dbf587ed",
   "metadata": {},
   "source": [
    "# 画图"
   ]
  },
  {
   "cell_type": "code",
   "execution_count": 14,
   "id": "4729bfd7",
   "metadata": {},
   "outputs": [
    {
     "data": {
      "image/png": "[encoded data removed]",
      "text/plain": [
       "<Figure size 720x432 with 1 Axes>"
      ]
     },
     "metadata": {
      "needs_background": "light"
     },
     "output_type": "display_data"
    }
   ],
   "source": [
    "plt.figure(figsize=(10,6))\n",
    "plt.title(r\"电压与透射率关系图\")\n",
    "plt.ylabel(r\"透射率/%\")\n",
    "plt.xlabel(r\"电压/V\")\n",
    "plt.grid()\n",
    "plt.plot(x, y, 'ok', label=\"实验数据\")\n",
    "plt.plot(xfit1, yfit1, color='b')\n",
    "plt.plot(xfit2, yfit2, color='b', label=\"拟合曲线\")\n",
    "plt.plot(xfit3, yfit3, color='b')\n",
    "plt.plot(x_10, y_10, \"or\")\n",
    "plt.plot(x_90, y_90, \"or\")\n",
    "plt.text(x_10, y_10, (float(x_10.round(2)), 10),ha='left', va='bottom', fontsize=15, color=\"r\")\n",
    "plt.text(x_90, y_90, (float(x_90.round(2)), 90),ha='left', va='bottom', fontsize=15, color=\"r\")\n",
    "plt.legend()\n",
    "plt.savefig(\"液晶电光效应研究.jpg\",dpi=150)"
   ]
  },
  {
   "cell_type": "code",
   "execution_count": null,
   "id": "a78069c9",
   "metadata": {},
   "outputs": [],
   "source": []
  }
 ],
 "metadata": {
  "kernelspec": {
   "display_name": "Python 3",
   "language": "python",
   "name": "python3"
  },
  "language_info": {
   "codemirror_mode": {
    "name": "ipython",
    "version": 3
   },
   "file_extension": ".py",
   "mimetype": "text/x-python",
   "name": "python",
   "nbconvert_exporter": "python",
   "pygments_lexer": "ipython3",
   "version": "3.8.8"
  }
 },
 "nbformat": 4,
 "nbformat_minor": 5
}
