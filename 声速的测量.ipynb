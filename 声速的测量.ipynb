{
 "cells": [
  {
   "cell_type": "code",
   "execution_count": 68,
   "id": "3f0c5cc2",
   "metadata": {},
   "outputs": [],
   "source": [
    "import numpy as np"
   ]
  },
  {
   "cell_type": "code",
   "execution_count": 69,
   "id": "84fb5024",
   "metadata": {},
   "outputs": [
    {
     "data": {
      "text/plain": [
       "(16,)"
      ]
     },
     "execution_count": 69,
     "metadata": {},
     "output_type": "execute_result"
    }
   ],
   "source": [
    "l = np.array([-97.34,-93.77,-89.10,-84.35,\n",
    "              -79.62,-74.92,-70.27,-65.59,\n",
    "              -60.88,-56.20,-51.51,-46.88,\n",
    "              -42.24,-37.55,-32.96,-28.27])\n",
    "l.shape"
   ]
  },
  {
   "cell_type": "code",
   "execution_count": 72,
   "id": "17055376",
   "metadata": {},
   "outputs": [],
   "source": [
    "deltal = []\n",
    "for i in range(0,8):\n",
    "#     print(l[i+8]-l[i])\n",
    "    deltal.append(l[i+8]-l[i])\n",
    "deltal = np.array(deltal)"
   ]
  },
  {
   "cell_type": "code",
   "execution_count": 74,
   "id": "76095c31",
   "metadata": {},
   "outputs": [
    {
     "data": {
      "text/plain": [
       "0.1269622764558709"
      ]
     },
     "execution_count": 74,
     "metadata": {},
     "output_type": "execute_result"
    }
   ],
   "source": [
    "ua = np.sqrt(np.sum((deltal-deltal.mean())**2)/(8*7))\n",
    "ua"
   ]
  },
  {
   "cell_type": "code",
   "execution_count": 78,
   "id": "4e201c9b",
   "metadata": {},
   "outputs": [
    {
     "data": {
      "text/plain": [
       "0.0034174288873253596"
      ]
     },
     "execution_count": 78,
     "metadata": {},
     "output_type": "execute_result"
    }
   ],
   "source": [
    "ub = np.sqrt(ua**2+0.0115**2)\n",
    "ur = 0.1275/deltal.mean()\n",
    "ur"
   ]
  },
  {
   "cell_type": "code",
   "execution_count": 79,
   "id": "1bb069b7",
   "metadata": {},
   "outputs": [
    {
     "data": {
      "text/plain": [
       "0.24494666000000007"
      ]
     },
     "execution_count": 79,
     "metadata": {},
     "output_type": "execute_result"
    }
   ],
   "source": [
    "349.9238*0.07*0.01"
   ]
  },
  {
   "cell_type": "code",
   "execution_count": 14,
   "id": "33c18a13",
   "metadata": {},
   "outputs": [
    {
     "data": {
      "text/plain": [
       "9.327187499999999"
      ]
     },
     "execution_count": 14,
     "metadata": {},
     "output_type": "execute_result"
    }
   ],
   "source": [
    "np.mean(deltal)/4"
   ]
  },
  {
   "cell_type": "code",
   "execution_count": 15,
   "id": "fecf10f8",
   "metadata": {},
   "outputs": [
    {
     "data": {
      "text/plain": [
       "0.0029962404708391913"
      ]
     },
     "execution_count": 15,
     "metadata": {},
     "output_type": "execute_result"
    }
   ],
   "source": [
    "(346.29047-345.256)/345.256"
   ]
  },
  {
   "cell_type": "code",
   "execution_count": 80,
   "id": "8a2ad528",
   "metadata": {},
   "outputs": [],
   "source": [
    "l2 = np.array([-79.36,-74.65,-69.98,-65.17,\n",
    "          -60.58,-55.86,-51.21,-46.48,\n",
    "          -41.81,-37.17,-32.49,-27.87,\n",
    "         -23.20,-18.48,-13.84,-9.13])"
   ]
  },
  {
   "cell_type": "code",
   "execution_count": 82,
   "id": "ec8af255",
   "metadata": {},
   "outputs": [],
   "source": [
    "deltal2 = []\n",
    "for i in range(0,8):\n",
    "#     print(l[i+8]-l[i])\n",
    "    deltal2.append(l2[i+8]-l2[i])\n",
    "deltal2 = np.array(deltal2)"
   ]
  },
  {
   "cell_type": "code",
   "execution_count": 84,
   "id": "2bce8dbb",
   "metadata": {},
   "outputs": [
    {
     "data": {
      "text/plain": [
       "37.412499999999994"
      ]
     },
     "execution_count": 84,
     "metadata": {},
     "output_type": "execute_result"
    }
   ],
   "source": [
    "deltal2.mean()"
   ]
  },
  {
   "cell_type": "code",
   "execution_count": 85,
   "id": "0fa2bdc5",
   "metadata": {},
   "outputs": [
    {
     "data": {
      "text/plain": [
       "0.029865771138785527"
      ]
     },
     "execution_count": 85,
     "metadata": {},
     "output_type": "execute_result"
    }
   ],
   "source": [
    "ua2 = np.sqrt(np.sum((deltal2-deltal2.mean())**2)/(8*7))\n",
    "ua2"
   ]
  },
  {
   "cell_type": "code",
   "execution_count": 88,
   "id": "1b00fe43",
   "metadata": {},
   "outputs": [
    {
     "data": {
      "text/plain": [
       "0.0034074717420565837"
      ]
     },
     "execution_count": 88,
     "metadata": {},
     "output_type": "execute_result"
    }
   ],
   "source": [
    "udeltal2 = np.sqrt(ua**2+0.0115**2)\n",
    "udeltal2/37.4125"
   ]
  },
  {
   "cell_type": "code",
   "execution_count": 83,
   "id": "4ed7dd8c",
   "metadata": {},
   "outputs": [
    {
     "data": {
      "text/plain": [
       "9.353124999999999"
      ]
     },
     "execution_count": 83,
     "metadata": {},
     "output_type": "execute_result"
    }
   ],
   "source": [
    "np.mean(deltal2)/4"
   ]
  },
  {
   "cell_type": "code",
   "execution_count": 23,
   "id": "2dd5ae3b",
   "metadata": {},
   "outputs": [
    {
     "data": {
      "text/plain": [
       "0.013519822971939826"
      ]
     },
     "execution_count": 23,
     "metadata": {},
     "output_type": "execute_result"
    }
   ],
   "source": [
    "(349.9238-345.256)/345.256"
   ]
  },
  {
   "cell_type": "code",
   "execution_count": 48,
   "id": "1bd2ef8d",
   "metadata": {},
   "outputs": [],
   "source": [
    "l3 = np.array([0,-9.12,2.00,8.5,19.00])*0.001\n",
    "t3 = np.array([0,324.0,356.0,376.0,404.0])*0.000001"
   ]
  },
  {
   "cell_type": "code",
   "execution_count": 52,
   "id": "947e6a78",
   "metadata": {},
   "outputs": [],
   "source": [
    "a = (l3[2]-l3[1])/(t3[2]-t3[1])"
   ]
  },
  {
   "cell_type": "code",
   "execution_count": 53,
   "id": "a9e31a0f",
   "metadata": {},
   "outputs": [],
   "source": [
    "b = (l3[3]-l3[2])/(t3[3]-t3[2])"
   ]
  },
  {
   "cell_type": "code",
   "execution_count": 54,
   "id": "63022aa0",
   "metadata": {},
   "outputs": [],
   "source": [
    "c = (l3[4]-l3[2])/(t3[4]-t3[2])"
   ]
  },
  {
   "cell_type": "code",
   "execution_count": 55,
   "id": "bb55395c",
   "metadata": {},
   "outputs": [
    {
     "data": {
      "text/plain": [
       "342.2222222222221"
      ]
     },
     "execution_count": 55,
     "metadata": {},
     "output_type": "execute_result"
    }
   ],
   "source": [
    "(a+b+c)/3"
   ]
  },
  {
   "cell_type": "code",
   "execution_count": 61,
   "id": "d2165068",
   "metadata": {},
   "outputs": [
    {
     "data": {
      "text/plain": [
       "0.31622776601683794"
      ]
     },
     "execution_count": 61,
     "metadata": {},
     "output_type": "execute_result"
    }
   ],
   "source": [
    "f = np.array([37127,37127,37128,37127,37126])\n",
    "ua = np.sqrt(np.sum((f-f.mean())**2)/(5*4))\n",
    "ua"
   ]
  },
  {
   "cell_type": "code",
   "execution_count": 63,
   "id": "9c829ddc",
   "metadata": {},
   "outputs": [
    {
     "data": {
      "text/plain": [
       "0.658499627942188"
      ]
     },
     "execution_count": 63,
     "metadata": {},
     "output_type": "execute_result"
    }
   ],
   "source": [
    "uf = np.sqrt(ua**2+(0.5776)**2)\n",
    "uf"
   ]
  },
  {
   "cell_type": "code",
   "execution_count": 64,
   "id": "013189a8",
   "metadata": {},
   "outputs": [
    {
     "data": {
      "text/plain": [
       "1.7736408218875428e-05"
      ]
     },
     "execution_count": 64,
     "metadata": {},
     "output_type": "execute_result"
    }
   ],
   "source": [
    "uf/f.mean()"
   ]
  },
  {
   "cell_type": "code",
   "execution_count": null,
   "id": "c7af0a80",
   "metadata": {},
   "outputs": [],
   "source": []
  }
 ],
 "metadata": {
  "kernelspec": {
   "display_name": "Python 3",
   "language": "python",
   "name": "python3"
  },
  "language_info": {
   "codemirror_mode": {
    "name": "ipython",
    "version": 3
   },
   "file_extension": ".py",
   "mimetype": "text/x-python",
   "name": "python",
   "nbconvert_exporter": "python",
   "pygments_lexer": "ipython3",
   "version": "3.8.8"
  }
 },
 "nbformat": 4,
 "nbformat_minor": 5
}
