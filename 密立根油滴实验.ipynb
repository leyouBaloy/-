{
 "cells": [
  {
   "cell_type": "markdown",
   "metadata": {},
   "source": [
    "# 密立根油滴实验\n",
    "原版：https://blog.csdn.net/jynidl/article/details/120931526?spm=1001.2014.3001.5502"
   ]
  },
  {
   "cell_type": "code",
   "execution_count": 3,
   "metadata": {},
   "outputs": [],
   "source": [
    "import numpy as np\n",
    "import math"
   ]
  },
  {
   "cell_type": "code",
   "execution_count": 4,
   "metadata": {},
   "outputs": [
    {
     "name": "stdout",
     "output_type": "stream",
     "text": [
      "14.771775148635285\n"
     ]
    }
   ],
   "source": [
    "### 计算油滴带电量函数\n",
    "def Qi(ti,U):\n",
    "    pai=np.pi\n",
    "    g=9.8\n",
    "    d=0.005\n",
    "    l=0.002\n",
    "    rou=981\n",
    "    n=1.83*10e-5\n",
    "    b=8.23*10e-3\n",
    "    p=1.01*10e5\n",
    "    k1=18*pai*d/np.sqrt(2*rou*g)\n",
    "    k2=math.pow(n*l,3/2)\n",
    "    k3=b/p\n",
    "    f=np.sqrt(2*rou*g*ti/(9*n*l))\n",
    "    \n",
    "    qi=k1*k2*math.pow(1+k3*f,-3/2)*(1/U)*math.pow(ti,-3/2)\n",
    "    return qi\n",
    "    \n",
    "###倒过来验证法（举个例子）\n",
    "t1=19.5\n",
    "U=213\n",
    "q1=Qi(t1,U)\n",
    "e=1.6*10e-19\n",
    "print(q1/e) #这里算出来n为14.771775148635285，取整，n=15。\n",
    "e = q1/15"
   ]
  },
  {
   "cell_type": "code",
   "execution_count": 17,
   "metadata": {},
   "outputs": [],
   "source": []
  },
  {
   "cell_type": "code",
   "execution_count": 28,
   "metadata": {},
   "outputs": [],
   "source": [
    "e = 1.6e-19\n",
    "def cal(ti, U):\n",
    "    q1 = Qi(ti.mean(), U1)\n",
    "    n1 = q1/e\n",
    "    n1_ = int(n1)\n",
    "    e1 = q1/n1_\n",
    "    print(\"mean\",ti.mean())\n",
    "    print(\"q\",q1)\n",
    "    print(\"n\", n1)\n",
    "    print(\"n_\",n1_)\n",
    "    print(\"e\",e1)\n",
    "    print(\"*\"*40)\n",
    "    return e1"
   ]
  },
  {
   "cell_type": "code",
   "execution_count": 22,
   "metadata": {},
   "outputs": [],
   "source": [
    "t1 = np.array([16.7,16.5,16.6,16.3,17.0])\n",
    "U1 = 224\n",
    "\n",
    "t2 = np.array([16.6,16.0,17.1,16.8,16.3])\n",
    "U2 = 282\n",
    "\n",
    "t3 = np.array([17.2,17.0,17.4,16.9,16.9])\n",
    "U3 = 273\n",
    "\n",
    "t4 = np.array([23.1,23.8,24.0,23.5,23.3])\n",
    "U4 = 257\n",
    "\n",
    "t5 = np.array([28.6,27.6,29.1,28.6,27.6])\n",
    "U5 = 206"
   ]
  },
  {
   "cell_type": "code",
   "execution_count": 30,
   "metadata": {},
   "outputs": [],
   "source": [
    "es = []"
   ]
  },
  {
   "cell_type": "code",
   "execution_count": 31,
   "metadata": {},
   "outputs": [
    {
     "name": "stdout",
     "output_type": "stream",
     "text": [
      "mean 16.62\n",
      "q 2.8650324483243165e-17\n",
      "n 179.0645280202698\n",
      "n_ 179\n",
      "e 1.600576786773361e-19\n",
      "****************************************\n"
     ]
    }
   ],
   "source": [
    "es.append(cal(t1, U1))"
   ]
  },
  {
   "cell_type": "code",
   "execution_count": 32,
   "metadata": {},
   "outputs": [
    {
     "name": "stdout",
     "output_type": "stream",
     "text": [
      "mean 16.56\n",
      "q 2.880810610843892e-17\n",
      "n 180.05066317774325\n",
      "n_ 180\n",
      "e 1.6004503393577177e-19\n",
      "****************************************\n"
     ]
    }
   ],
   "source": [
    "es.append(cal(t2, U2))"
   ]
  },
  {
   "cell_type": "code",
   "execution_count": 33,
   "metadata": {},
   "outputs": [
    {
     "name": "stdout",
     "output_type": "stream",
     "text": [
      "mean 17.080000000000002\n",
      "q 2.7486705725690017e-17\n",
      "n 171.7919107855626\n",
      "n_ 171\n",
      "e 1.6074096915608196e-19\n",
      "****************************************\n"
     ]
    }
   ],
   "source": [
    "es.append(cal(t3, U3))"
   ]
  },
  {
   "cell_type": "code",
   "execution_count": 34,
   "metadata": {},
   "outputs": [
    {
     "name": "stdout",
     "output_type": "stream",
     "text": [
      "mean 23.54\n",
      "q 1.687750039127631e-17\n",
      "n 105.48437744547694\n",
      "n_ 105\n",
      "e 1.607380989645363e-19\n",
      "****************************************\n"
     ]
    }
   ],
   "source": [
    "es.append(cal(t4, U4))"
   ]
  },
  {
   "cell_type": "code",
   "execution_count": 35,
   "metadata": {},
   "outputs": [
    {
     "name": "stdout",
     "output_type": "stream",
     "text": [
      "mean 28.3\n",
      "q 1.2749657161035976e-17\n",
      "n 79.68535725647486\n",
      "n_ 79\n",
      "e 1.613880653295693e-19\n",
      "****************************************\n"
     ]
    }
   ],
   "source": [
    "es.append(cal(t5, U5))"
   ]
  },
  {
   "cell_type": "code",
   "execution_count": 36,
   "metadata": {},
   "outputs": [
    {
     "data": {
      "text/plain": [
       "[1.600576786773361e-19,\n",
       " 1.6004503393577177e-19,\n",
       " 1.6074096915608196e-19,\n",
       " 1.607380989645363e-19,\n",
       " 1.613880653295693e-19]"
      ]
     },
     "execution_count": 36,
     "metadata": {},
     "output_type": "execute_result"
    }
   ],
   "source": [
    "es"
   ]
  },
  {
   "cell_type": "code",
   "execution_count": 38,
   "metadata": {},
   "outputs": [
    {
     "data": {
      "text/plain": [
       "1.605939692126591e-19"
      ]
     },
     "execution_count": 38,
     "metadata": {},
     "output_type": "execute_result"
    }
   ],
   "source": [
    "np.mean(es)"
   ]
  },
  {
   "cell_type": "code",
   "execution_count": null,
   "metadata": {},
   "outputs": [],
   "source": []
  }
 ],
 "metadata": {
  "kernelspec": {
   "display_name": "Python 3",
   "language": "python",
   "name": "python3"
  },
  "language_info": {
   "codemirror_mode": {
    "name": "ipython",
    "version": 3
   },
   "file_extension": ".py",
   "mimetype": "text/x-python",
   "name": "python",
   "nbconvert_exporter": "python",
   "pygments_lexer": "ipython3",
   "version": "3.8.5"
  }
 },
 "nbformat": 4,
 "nbformat_minor": 4
}
